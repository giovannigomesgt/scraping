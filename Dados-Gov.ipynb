{
 "cells": [
  {
   "cell_type": "code",
   "execution_count": 1,
   "id": "f3ded045",
   "metadata": {},
   "outputs": [],
   "source": [
    "from bs4 import BeautifulSoup, SoupStrainer\n",
    "import requests"
   ]
  },
  {
   "cell_type": "code",
   "execution_count": 2,
   "id": "c43688e0",
   "metadata": {},
   "outputs": [],
   "source": [
    "\"\"\"\n",
    "Spyder Editor\n",
    "lista relação de arquivos na página de dados públicos da receita federal\n",
    "\"\"\"\n",
    "url = 'https://www.gov.br/receitafederal/pt-br/assuntos/orientacao-tributaria/cadastros/consultas/dados-publicos-cnpj'\n",
    "url = 'http://200.152.38.155/CNPJ/'"
   ]
  },
  {
   "cell_type": "code",
   "execution_count": 3,
   "id": "595a7b91",
   "metadata": {},
   "outputs": [
    {
     "name": "stdout",
     "output_type": "stream",
     "text": [
      "http://200.152.38.155/CNPJ/Cnaes.zip\n",
      "http://200.152.38.155/CNPJ/Empresas0.zip\n",
      "http://200.152.38.155/CNPJ/Empresas1.zip\n",
      "http://200.152.38.155/CNPJ/Empresas2.zip\n",
      "http://200.152.38.155/CNPJ/Empresas3.zip\n",
      "http://200.152.38.155/CNPJ/Empresas4.zip\n",
      "http://200.152.38.155/CNPJ/Empresas5.zip\n",
      "http://200.152.38.155/CNPJ/Empresas6.zip\n",
      "http://200.152.38.155/CNPJ/Empresas7.zip\n",
      "http://200.152.38.155/CNPJ/Empresas8.zip\n",
      "http://200.152.38.155/CNPJ/Empresas9.zip\n",
      "http://200.152.38.155/CNPJ/Estabelecimentos0.zip\n",
      "http://200.152.38.155/CNPJ/Estabelecimentos1.zip\n",
      "http://200.152.38.155/CNPJ/Estabelecimentos2.zip\n",
      "http://200.152.38.155/CNPJ/Estabelecimentos3.zip\n",
      "http://200.152.38.155/CNPJ/Estabelecimentos4.zip\n",
      "http://200.152.38.155/CNPJ/Estabelecimentos5.zip\n",
      "http://200.152.38.155/CNPJ/Estabelecimentos6.zip\n",
      "http://200.152.38.155/CNPJ/Estabelecimentos7.zip\n",
      "http://200.152.38.155/CNPJ/Estabelecimentos8.zip\n",
      "http://200.152.38.155/CNPJ/Estabelecimentos9.zip\n",
      "http://200.152.38.155/CNPJ/Motivos.zip\n",
      "http://200.152.38.155/CNPJ/Municipios.zip\n",
      "http://200.152.38.155/CNPJ/Naturezas.zip\n",
      "http://200.152.38.155/CNPJ/Paises.zip\n",
      "http://200.152.38.155/CNPJ/Qualificacoes.zip\n",
      "http://200.152.38.155/CNPJ/Simples.zip\n",
      "http://200.152.38.155/CNPJ/Socios0.zip\n",
      "http://200.152.38.155/CNPJ/Socios1.zip\n",
      "http://200.152.38.155/CNPJ/Socios2.zip\n",
      "http://200.152.38.155/CNPJ/Socios3.zip\n",
      "http://200.152.38.155/CNPJ/Socios4.zip\n",
      "http://200.152.38.155/CNPJ/Socios5.zip\n",
      "http://200.152.38.155/CNPJ/Socios6.zip\n",
      "http://200.152.38.155/CNPJ/Socios7.zip\n",
      "http://200.152.38.155/CNPJ/Socios8.zip\n",
      "http://200.152.38.155/CNPJ/Socios9.zip\n"
     ]
    }
   ],
   "source": [
    "page = requests.get(url)    \n",
    "data = page.text\n",
    "soup = BeautifulSoup(data)\n",
    "arquivos = []\n",
    "for link in soup.find_all('a'):\n",
    "    if str(link.get('href')).endswith('.zip'): \n",
    "        cam = link.get('href')\n",
    "        # if cam.startswith('http://http'):\n",
    "        #     cam = 'http://' + cam[len('http://http//'):] \n",
    "        if not cam.startswith('http'):\n",
    "            print(url+cam)\n",
    "            arquivos.append(url+cam)\n",
    "        else:\n",
    "            print(cam)"
   ]
  },
  {
   "cell_type": "code",
   "execution_count": 9,
   "id": "db57502c",
   "metadata": {},
   "outputs": [],
   "source": [
    "def file_download(url,end):\n",
    "    res = requests.get(url)\n",
    "    with open (end, 'wb') as new_file:\n",
    "        new_file.write(res.content)\n",
    "        print(f'File save in {end}')"
   ]
  },
  {
   "cell_type": "code",
   "execution_count": 18,
   "id": "df4f56e2",
   "metadata": {},
   "outputs": [
    {
     "name": "stdout",
     "output_type": "stream",
     "text": [
      "File save in assets/Empresas0.zip\n"
     ]
    }
   ],
   "source": [
    "nomenclatura = arquivos[1].split('/')\n",
    "file_download(arquivos[1],f'assets/{nomenclatura[-1]}')"
   ]
  },
  {
   "cell_type": "code",
   "execution_count": 20,
   "id": "21e554ce",
   "metadata": {},
   "outputs": [],
   "source": [
    "nomenclatura = arquivos[0].split('/')"
   ]
  },
  {
   "cell_type": "code",
   "execution_count": 21,
   "id": "1c20a222",
   "metadata": {},
   "outputs": [
    {
     "data": {
      "text/plain": [
       "['http:', '', '200.152.38.155', 'CNPJ', 'Cnaes.zip']"
      ]
     },
     "execution_count": 21,
     "metadata": {},
     "output_type": "execute_result"
    }
   ],
   "source": [
    "nomenclatura"
   ]
  },
  {
   "cell_type": "code",
   "execution_count": 33,
   "id": "0c98ac20",
   "metadata": {},
   "outputs": [
    {
     "data": {
      "text/plain": [
       "'http://200.152.38.155/CNPJ/Cnaes.zip'"
      ]
     },
     "execution_count": 33,
     "metadata": {},
     "output_type": "execute_result"
    }
   ],
   "source": [
    "arquivos[0]"
   ]
  },
  {
   "cell_type": "code",
   "execution_count": null,
   "id": "b3d6b42d",
   "metadata": {},
   "outputs": [],
   "source": []
  },
  {
   "cell_type": "code",
   "execution_count": 34,
   "id": "2b474d7b",
   "metadata": {},
   "outputs": [
    {
     "name": "stdout",
     "output_type": "stream",
     "text": [
      "100% [..............................................................................] 22078 / 22078"
     ]
    },
    {
     "data": {
      "text/plain": [
       "'Cnaes.zip'"
      ]
     },
     "execution_count": 34,
     "metadata": {},
     "output_type": "execute_result"
    }
   ],
   "source": [
    "import wget\n",
    "#url = 'http://200.152.38.155/CNPJ/Socios9.zip'\n",
    "wget.args = '-c'\n",
    "wget.detect_filename\n",
    "wget.download(arquivos[0])"
   ]
  },
  {
   "cell_type": "raw",
   "id": "1fb40fe4",
   "metadata": {},
   "source": [
    "# Definindo Layout das bases para carga no Banco de dados\n",
    "layout_files = {'EMPRE': {'columns':\n",
    "                          {'st_cnpj_base': str, 'st_razao_social': str, 'cd_natureza_juridica': str, 'cd_qualificacao': str,\n",
    "                              'vl_capital_social': str, 'cd_porte_empresa': str, 'st_ente_federativo': str},\n",
    "                          'table_name_db': 'tb_empresa'},\n",
    "                'ESTABELE': {'columns':\n",
    "                             {'st_cnpj_base': str, 'st_cnpj_ordem': str, 'st_cnpj_dv': str, 'cd_matriz_filial': str, 'st_nome_fantasia': str, 'cd_situacao_cadastral': str,\n",
    "                              'dt_situacao_cadastral': str, 'cd_motivo_situacao_cadastral': str, 'st_cidade_exterior': str, 'cd_pais': str, 'dt_inicio_atividade': str,\n",
    "                              'cd_cnae_principal': str, 'cd_cnae_secundario': str, 'st_tipo_logradouro': str, 'st_logradouro': str, 'st_numero': str, 'st_complemento': str,\n",
    "                              'st_bairro': str, 'st_cep': str, 'st_uf': str, 'cd_municipio': str, 'st_ddd1': str, 'st_telefone1': str, 'st_ddd2': str, 'st_telefone2': str,\n",
    "                              'st_ddd_fax': str, 'st_fax': str, 'st_email': str, 'st_situacao_especial': str, 'dt_situacao_especial': str\n",
    "                              }, 'table_name_db': 'tb_estabelecimento'},\n",
    "                'SIMPLES': {'columns':\n",
    "                            {'st_cnpj_base': str, 'st_opcao_simples': str, 'dt_opcao_simples': str, 'dt_exclusao_simples': str,\n",
    "                             'st_opcao_mei': str, 'dt_opcao_mei': str, 'dt_exclusao_mei': str\n",
    "                             }, 'table_name_db': 'tb_dados_simples'},\n",
    "                'SOCIO': {'columns':\n",
    "                           {'st_cnpj_base': str, 'cd_tipo': str, 'st_nome': str, 'st_cpf_cnpj': str, 'cd_qualificacao': str, 'dt_entrada': str,\n",
    "                            'cd_pais': str, 'st_representante': str, 'st_nome_representante': str, 'cd_qualificacao_representante': str, 'cd_faixa_etaria': str},\n",
    "                          'table_name_db': 'tb_socio'},\n",
    "                'PAIS': {'columns': {'cd_pais': str, 'st_pais': str}, 'table_name_db': 'tb_pais'},\n",
    "                'MUNIC': {'columns': {'cd_municipio': str, 'st_municipio': str}, 'table_name_db': 'tb_municipio'},\n",
    "                'QUALS': {'columns': {'cd_qualificacao': str, 'st_qualificacao': str}, 'table_name_db': 'tb_qualificacao_socio'},\n",
    "                'NATJU': {'columns': {'cd_natureza_juridica': str, 'st_natureza_juridica': str}, 'table_name_db': 'tb_natureza_juridica'},\n",
    "                'MOTI': {'columns': {'cd_motivo_situacao_cadastral': str, 'st_motivo_situacao_cadastral': str}, 'table_name_db': 'tb_motivo_situacao_cadastral'},\n",
    "                'CNAE': {'columns': {'cd_cnae': str, 'st_cnae': str}, 'table_name_db': 'tb_cnae'}\n",
    "                }"
   ]
  },
  {
   "cell_type": "raw",
   "id": "f31b18f7",
   "metadata": {},
   "source": [
    "# Listar arquivos do diretório\n",
    "files = os.listdir(directory)\n",
    "uploaded = []"
   ]
  },
  {
   "cell_type": "raw",
   "id": "257b0a9e",
   "metadata": {},
   "source": [
    "# Listar arquivos do diretório\n",
    "files = os.listdir(directory)\n",
    "uploaded = []\n",
    "for file in files:\n",
    "    # Verificando arquivos já carregados\n",
    "    if file in uploaded:\n",
    "        continue\n",
    "    temp_file = io.BytesIO()"
   ]
  },
  {
   "cell_type": "raw",
   "id": "27f2916a",
   "metadata": {},
   "source": [
    "# Selecionando Base para captura de Layout e nome do Arquivo\n",
    "model = file.replace('.zip', '').split('.')[-1].replace('CSV', '') if file.find('SIMPLES') < 0 else 'SIMPLES'"
   ]
  },
  {
   "cell_type": "raw",
   "id": "9b19d282",
   "metadata": {},
   "source": [
    "# Fazendo leitura do CSV em partes\n",
    "for chunk in pd.read_csv(temp_file, delimiter=';', header=None, chunksize=65000, names=list(layout_files[model]['columns'].keys()), iterator=True, dtype=str, encoding=\"ISO-8859-1\"):\n",
    "    # Formatando Colunas de Datas\n",
    "    for i in chunk.columns[chunk.columns.str.contains('dt_')]:\n",
    "        chunk.loc[chunk[i] == '00000000', i] = None\n",
    "        chunk.loc[chunk[i] == '0', i] = None\n",
    "        chunk[i] = pd.to_datetime(\n",
    "            chunk[i], format='%Y%m%d', errors='coerce')"
   ]
  },
  {
   "cell_type": "markdown",
   "id": "fe1140fb",
   "metadata": {},
   "source": [
    "------\n",
    "------"
   ]
  }
 ],
 "metadata": {
  "kernelspec": {
   "display_name": "Python 3 (ipykernel)",
   "language": "python",
   "name": "python3"
  },
  "language_info": {
   "codemirror_mode": {
    "name": "ipython",
    "version": 3
   },
   "file_extension": ".py",
   "mimetype": "text/x-python",
   "name": "python",
   "nbconvert_exporter": "python",
   "pygments_lexer": "ipython3",
   "version": "3.10.5"
  }
 },
 "nbformat": 4,
 "nbformat_minor": 5
}
